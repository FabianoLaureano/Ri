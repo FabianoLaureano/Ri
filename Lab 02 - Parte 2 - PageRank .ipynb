{
 "cells": [
  {
   "cell_type": "markdown",
   "metadata": {},
   "source": [
    "# Lab 02 - Parte 2 - PageRank "
   ]
  },
  {
   "cell_type": "code",
   "execution_count": 2,
   "metadata": {},
   "outputs": [],
   "source": [
    "import pandas as pd\n",
    "import numpy as np\n",
    "import decimal"
   ]
  },
  {
   "cell_type": "code",
   "execution_count": 3,
   "metadata": {},
   "outputs": [
    {
     "data": {
      "text/html": [
       "<div>\n",
       "<style scoped>\n",
       "    .dataframe tbody tr th:only-of-type {\n",
       "        vertical-align: middle;\n",
       "    }\n",
       "\n",
       "    .dataframe tbody tr th {\n",
       "        vertical-align: top;\n",
       "    }\n",
       "\n",
       "    .dataframe thead th {\n",
       "        text-align: right;\n",
       "    }\n",
       "</style>\n",
       "<table border=\"1\" class=\"dataframe\">\n",
       "  <thead>\n",
       "    <tr style=\"text-align: right;\">\n",
       "      <th></th>\n",
       "      <th>6</th>\n",
       "      <th>2</th>\n",
       "      <th>4</th>\n",
       "      <th>1289241911.72836</th>\n",
       "    </tr>\n",
       "  </thead>\n",
       "  <tbody>\n",
       "    <tr>\n",
       "      <th>253</th>\n",
       "      <td>1</td>\n",
       "      <td>2</td>\n",
       "      <td>8</td>\n",
       "      <td>1.296629e+09</td>\n",
       "    </tr>\n",
       "    <tr>\n",
       "      <th>11988</th>\n",
       "      <td>1</td>\n",
       "      <td>4</td>\n",
       "      <td>10</td>\n",
       "      <td>1.343107e+09</td>\n",
       "    </tr>\n",
       "    <tr>\n",
       "      <th>4995</th>\n",
       "      <td>1</td>\n",
       "      <td>6</td>\n",
       "      <td>8</td>\n",
       "      <td>1.308242e+09</td>\n",
       "    </tr>\n",
       "    <tr>\n",
       "      <th>410</th>\n",
       "      <td>1</td>\n",
       "      <td>7</td>\n",
       "      <td>9</td>\n",
       "      <td>1.298267e+09</td>\n",
       "    </tr>\n",
       "    <tr>\n",
       "      <th>51</th>\n",
       "      <td>1</td>\n",
       "      <td>17</td>\n",
       "      <td>9</td>\n",
       "      <td>1.290969e+09</td>\n",
       "    </tr>\n",
       "  </tbody>\n",
       "</table>\n",
       "</div>"
      ],
      "text/plain": [
       "       6   2   4  1289241911.72836\n",
       "253    1   2   8      1.296629e+09\n",
       "11988  1   4  10      1.343107e+09\n",
       "4995   1   6   8      1.308242e+09\n",
       "410    1   7   9      1.298267e+09\n",
       "51     1  17   9      1.290969e+09"
      ]
     },
     "execution_count": 3,
     "metadata": {},
     "output_type": "execute_result"
    }
   ],
   "source": [
    "data = pd.read_csv('soc-sign-bitcoinotc.csv', encoding='utf-8')\n",
    "data = data.sort_values(by=['6', '2']) #ordenando o source e o target para contruir a matriz\n",
    "data = data[data['4'] >= 8] #rating acima de 8\n",
    "data.head()"
   ]
  },
  {
   "cell_type": "markdown",
   "metadata": {},
   "source": [
    "Feita a leitura dos dados do csv, ordenando os id's dos investidores e eliminando os que tinha notas abaixo de 8, vamos começar criando um dicionário onde as chaves serão os id's dos investidores, e a chave associada a cada um desses id's uma lista de todos os id's que a chave aponta.  "
   ]
  },
  {
   "cell_type": "code",
   "execution_count": 4,
   "metadata": {},
   "outputs": [],
   "source": [
    "s = list(data['6']) #source\n",
    "t = list(data['2']) #target\n",
    "ids = list(set(s) | set(list(t))) #id's distintos\n",
    "\n",
    "dic = {\n",
    "    id_: [] for id_ in ids\n",
    "}\n",
    "\n",
    "for i in range(len(s)):\n",
    "    source = s[i]\n",
    "    target = t[i]\n",
    "    dic[source].append(target)"
   ]
  },
  {
   "cell_type": "markdown",
   "metadata": {},
   "source": [
    "Agora vamos ultilizar o dicionário criado para construir a matriz de transição H.\n",
    "\n",
    "Abaixo a função que cria a matriz H a partir do dic."
   ]
  },
  {
   "cell_type": "code",
   "execution_count": 10,
   "metadata": {},
   "outputs": [],
   "source": [
    "def h_matrix(nodes):\n",
    "    \n",
    "    a = np.zeros(shape=(len(ids), len(ids)))\n",
    "    \n",
    "    for i in range(len(ids)):\n",
    "        for j in range(len(ids)):\n",
    "            source = ids[i]\n",
    "            target = ids[j]\n",
    "            if target in dic[source]:\n",
    "                a[j][i] = float(1) / float(len(dic[source]))\n",
    "                \n",
    "    return np.matrix(a)"
   ]
  },
  {
   "cell_type": "markdown",
   "metadata": {},
   "source": [
    "Agora vamos contruir todas as matrizes necessárias para o page rank\n",
    "\n",
    "A matriz \"a\" que será a matriz H\n",
    "\n",
    "A matriz \"b\" que é uma matriz de 1's multiplicada pelo escalar 1/quantidade de id's de investidores\n",
    "\n",
    "A matriz \"m\" que é obtida da formula (1-d x a) + (d x b), onde d é o fator de teletransporte."
   ]
  },
  {
   "cell_type": "code",
   "execution_count": 11,
   "metadata": {},
   "outputs": [
    {
     "name": "stdout",
     "output_type": "stream",
     "text": [
      "m: \n",
      " [[0.00016393 0.09460838 0.00016393 ... 0.00016393 0.00016393 0.00016393]\n",
      " [0.07743666 0.00016393 0.00016393 ... 0.00016393 0.00016393 0.00016393]\n",
      " [0.00016393 0.00016393 0.00016393 ... 0.00016393 0.00016393 0.00016393]\n",
      " ...\n",
      " [0.00016393 0.00016393 0.00016393 ... 0.00016393 0.00016393 0.00016393]\n",
      " [0.00016393 0.00016393 0.00016393 ... 0.00016393 0.00016393 0.00016393]\n",
      " [0.00016393 0.00016393 0.00016393 ... 0.00016393 0.00016393 0.00016393]]\n"
     ]
    }
   ],
   "source": [
    "d = 0.15 #fator de teletransporte\n",
    "a = h_matrix(ids) #matriz de transição\n",
    "b = (float(1)/float(len(ids)))*np.ones(shape=(len(ids), len(ids))) #matriz de 1's\n",
    "m = ((1-d)*a) + (d*b)\n",
    "\n",
    "print ('m:','\\n',m)"
   ]
  },
  {
   "cell_type": "markdown",
   "metadata": {},
   "source": [
    "Agora o que resta é o vetor com os page rank de todos os investidores, que inicialmente serão todos iguais, 1/quantidade de investidores"
   ]
  },
  {
   "cell_type": "code",
   "execution_count": 13,
   "metadata": {},
   "outputs": [],
   "source": [
    "#vetor com o page rank inicial dos investidores\n",
    "\n",
    "v = (float(1)/len(ids))*np.ones(shape=(len(ids), 1))"
   ]
  },
  {
   "cell_type": "markdown",
   "metadata": {},
   "source": [
    "A função para calcular o page rank dos investidores e contar o números de iterações que ocorreram"
   ]
  },
  {
   "cell_type": "code",
   "execution_count": 14,
   "metadata": {},
   "outputs": [],
   "source": [
    "count = 0\n",
    "\n",
    "def pageRank(v):\n",
    "    global count\n",
    "    if sum(abs(m*v-v)) > 0.001:\n",
    "        count += 1\n",
    "        return pageRank(m*v)\n",
    "    else:\n",
    "        count += 1\n",
    "        return m*v"
   ]
  },
  {
   "cell_type": "code",
   "execution_count": 15,
   "metadata": {},
   "outputs": [],
   "source": [
    "result = pageRank(v)\n",
    "result = [cell.item(0,0) for cell in result]"
   ]
  },
  {
   "cell_type": "markdown",
   "metadata": {},
   "source": [
    "Calculado o page rank de cada investidor vamos organizar e ordenar."
   ]
  },
  {
   "cell_type": "code",
   "execution_count": 16,
   "metadata": {},
   "outputs": [],
   "source": [
    "r = {}\n",
    "for i in range(len(result)):\n",
    "    r[ids[i]] = result[i]\n",
    "    \n",
    "r = sorted(r.items(), key=lambda x: x[1], reverse=True)"
   ]
  },
  {
   "cell_type": "code",
   "execution_count": 20,
   "metadata": {},
   "outputs": [
    {
     "name": "stdout",
     "output_type": "stream",
     "text": [
      "Id investidor: 1  Page Rank: 0.00013899\n",
      "Id investidor: 202  Page Rank: 0.00012469\n",
      "Id investidor: 144  Page Rank: 0.00011742\n",
      "Id investidor: 3996  Page Rank: 0.00009278\n",
      "Id investidor: 361  Page Rank: 0.00009154\n",
      "Count: 35\n"
     ]
    }
   ],
   "source": [
    "for i in r[0:5]:\n",
    "    print('Id investidor:', i[0], ' Page Rank:', str(decimal.Decimal(i[1]))[:10])\n",
    "    \n",
    "print('Count:', count)"
   ]
  },
  {
   "cell_type": "markdown",
   "metadata": {},
   "source": [
    "# Perguntas\n",
    "\n",
    "### Quantas iterações o PageRank precisou rodar até atingir convergência?\n",
    "\n",
    "35\n",
    "\n",
    "### Quais os 5 investidores mais importantes segundo o PageRank? Quais seus valores de PageRank?\n",
    "\n",
    "Id investidor: 1         Page Rank: 0.00013899\n",
    "\n",
    "Id investidor: 202       Page Rank: 0.00012469\n",
    "\n",
    "Id investidor: 144       Page Rank: 0.00011742\n",
    "\n",
    "Id investidor: 3996      Page Rank: 0.00009278\n",
    "\n",
    "Id investidor: 361       Page Rank: 0.00009154\n",
    "\n",
    "### Como você poderia usar o PageRank caso você fosse um investidor em bitcoins?\n",
    "\n",
    "Quanto maior o page rank maior a quantidade de links para o investidor, então quanto maior page rank menos risco nas transações de com o investidor."
   ]
  },
  {
   "cell_type": "markdown",
   "metadata": {},
   "source": [
    "# Gráficos"
   ]
  },
  {
   "cell_type": "markdown",
   "metadata": {},
   "source": [
    "### Id para Id"
   ]
  },
  {
   "cell_type": "markdown",
   "metadata": {},
   "source": [
    "![title](id-id.png)"
   ]
  },
  {
   "cell_type": "markdown",
   "metadata": {},
   "source": [
    "### Id para Page Rank"
   ]
  },
  {
   "cell_type": "markdown",
   "metadata": {},
   "source": [
    "![title](id-pg.png)"
   ]
  },
  {
   "cell_type": "code",
   "execution_count": null,
   "metadata": {},
   "outputs": [],
   "source": []
  }
 ],
 "metadata": {
  "kernelspec": {
   "display_name": "Python 3",
   "language": "python",
   "name": "python3"
  },
  "language_info": {
   "codemirror_mode": {
    "name": "ipython",
    "version": 3
   },
   "file_extension": ".py",
   "mimetype": "text/x-python",
   "name": "python",
   "nbconvert_exporter": "python",
   "pygments_lexer": "ipython3",
   "version": "3.6.4"
  }
 },
 "nbformat": 4,
 "nbformat_minor": 2
}
