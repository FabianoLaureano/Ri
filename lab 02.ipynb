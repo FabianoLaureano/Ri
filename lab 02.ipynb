{
 "cells": [
  {
   "cell_type": "code",
   "execution_count": 1,
   "metadata": {},
   "outputs": [],
   "source": [
    "import pandas as pd\n",
    "\n",
    "import numpy as np\n",
    "\n",
    "from scipy import sparse\n",
    "\n",
    "import nltk\n",
    "from nltk import bigrams\n",
    "from nltk.corpus import stopwords\n",
    "from nltk.tokenize import RegexpTokenizer\n",
    "from collections import defaultdict\n",
    "from collections import Counter"
   ]
  },
  {
   "cell_type": "code",
   "execution_count": 2,
   "metadata": {},
   "outputs": [
    {
     "data": {
      "text/html": [
       "<div>\n",
       "<style scoped>\n",
       "    .dataframe tbody tr th:only-of-type {\n",
       "        vertical-align: middle;\n",
       "    }\n",
       "\n",
       "    .dataframe tbody tr th {\n",
       "        vertical-align: top;\n",
       "    }\n",
       "\n",
       "    .dataframe thead th {\n",
       "        text-align: right;\n",
       "    }\n",
       "</style>\n",
       "<table border=\"1\" class=\"dataframe\">\n",
       "  <thead>\n",
       "    <tr style=\"text-align: right;\">\n",
       "      <th></th>\n",
       "      <th>timestamp</th>\n",
       "      <th>titulo</th>\n",
       "      <th>subTitulo</th>\n",
       "      <th>conteudo</th>\n",
       "      <th>url</th>\n",
       "      <th>idNoticia</th>\n",
       "    </tr>\n",
       "  </thead>\n",
       "  <tbody>\n",
       "    <tr>\n",
       "      <th>0</th>\n",
       "      <td>2014-12-31T00:00:00Z</td>\n",
       "      <td>PT espera 30 mil pessoas em festa na Esplanada</td>\n",
       "      <td>Objetivo é demonstrar apoio popular a Dilma e ...</td>\n",
       "      <td>BRASÍLIA - Após o desgaste provocado com o lan...</td>\n",
       "      <td>http://politica.estadao.com.br/noticias/geral,...</td>\n",
       "      <td>1</td>\n",
       "    </tr>\n",
       "    <tr>\n",
       "      <th>1</th>\n",
       "      <td>2014-12-31T00:00:00Z</td>\n",
       "      <td>Alckmin toma posse de olho no Planalto</td>\n",
       "      <td>Governador reeleito tenta amarrar tucanos paul...</td>\n",
       "      <td>Reeleito em outubro, o governador tucano Geral...</td>\n",
       "      <td>http://politica.estadao.com.br/noticias/geral,...</td>\n",
       "      <td>2</td>\n",
       "    </tr>\n",
       "    <tr>\n",
       "      <th>2</th>\n",
       "      <td>2014-12-31T00:00:00Z</td>\n",
       "      <td>Seis obstáculos e desafios do segundo mandato ...</td>\n",
       "      <td>Em meio a escândalo de corrupção, presidente t...</td>\n",
       "      <td>1. Rearranjo das contas A nova equipe econôm...</td>\n",
       "      <td>http://politica.estadao.com.br/noticias/geral,...</td>\n",
       "      <td>3</td>\n",
       "    </tr>\n",
       "    <tr>\n",
       "      <th>3</th>\n",
       "      <td>2014-12-31T00:00:00Z</td>\n",
       "      <td></td>\n",
       "      <td>Veja as principais fotos do dia e dos eventos ...</td>\n",
       "      <td></td>\n",
       "      <td>http://fotos.estadao.com.br/fotos/politica,dil...</td>\n",
       "      <td>4</td>\n",
       "    </tr>\n",
       "    <tr>\n",
       "      <th>4</th>\n",
       "      <td>2014-12-31T00:00:00Z</td>\n",
       "      <td></td>\n",
       "      <td>Veja as principais fotos do dia e dos eventos ...</td>\n",
       "      <td></td>\n",
       "      <td>http://fotos.estadao.com.br/fotos/politica,dil...</td>\n",
       "      <td>5</td>\n",
       "    </tr>\n",
       "  </tbody>\n",
       "</table>\n",
       "</div>"
      ],
      "text/plain": [
       "              timestamp                                             titulo  \\\n",
       "0  2014-12-31T00:00:00Z     PT espera 30 mil pessoas em festa na Esplanada   \n",
       "1  2014-12-31T00:00:00Z             Alckmin toma posse de olho no Planalto   \n",
       "2  2014-12-31T00:00:00Z  Seis obstáculos e desafios do segundo mandato ...   \n",
       "3  2014-12-31T00:00:00Z                                                      \n",
       "4  2014-12-31T00:00:00Z                                                      \n",
       "\n",
       "                                           subTitulo  \\\n",
       "0  Objetivo é demonstrar apoio popular a Dilma e ...   \n",
       "1  Governador reeleito tenta amarrar tucanos paul...   \n",
       "2  Em meio a escândalo de corrupção, presidente t...   \n",
       "3  Veja as principais fotos do dia e dos eventos ...   \n",
       "4  Veja as principais fotos do dia e dos eventos ...   \n",
       "\n",
       "                                            conteudo  \\\n",
       "0  BRASÍLIA - Após o desgaste provocado com o lan...   \n",
       "1  Reeleito em outubro, o governador tucano Geral...   \n",
       "2    1. Rearranjo das contas A nova equipe econôm...   \n",
       "3                                                      \n",
       "4                                                      \n",
       "\n",
       "                                                 url  idNoticia  \n",
       "0  http://politica.estadao.com.br/noticias/geral,...          1  \n",
       "1  http://politica.estadao.com.br/noticias/geral,...          2  \n",
       "2  http://politica.estadao.com.br/noticias/geral,...          3  \n",
       "3  http://fotos.estadao.com.br/fotos/politica,dil...          4  \n",
       "4  http://fotos.estadao.com.br/fotos/politica,dil...          5  "
      ]
     },
     "execution_count": 2,
     "metadata": {},
     "output_type": "execute_result"
    }
   ],
   "source": [
    "news = pd.read_csv(\"estadao_noticias_eleicao.csv\", encoding=\"utf-8\")\n",
    "news = news.replace(np.nan, '', regex = True)\n",
    "news.head()"
   ]
  },
  {
   "cell_type": "code",
   "execution_count": 3,
   "metadata": {},
   "outputs": [],
   "source": [
    "content = news.titulo + \" \" + news.subTitulo + \" \" + news.conteudo\n",
    "content = content.fillna(\"\")"
   ]
  },
  {
   "cell_type": "code",
   "execution_count": 4,
   "metadata": {},
   "outputs": [],
   "source": [
    "def co_occurrence_matrix(corpus):\n",
    "    vocab = set(corpus)\n",
    "    vocab = list(vocab)\n",
    "    n = len(vocab)\n",
    "   \n",
    "    vocab_to_index = {word:i for i, word in enumerate(vocab)}\n",
    "    \n",
    "    bi_grams = list(bigrams(corpus))\n",
    "\n",
    "    bigram_freq = nltk.FreqDist(bi_grams).most_common(len(bi_grams))\n",
    "\n",
    "    I=list()\n",
    "    J=list()\n",
    "    V=list()\n",
    "    \n",
    "    for bigram in bigram_freq:\n",
    "        current = bigram[0][1]\n",
    "        previous = bigram[0][0]\n",
    "        count = bigram[1]\n",
    "\n",
    "        I.append(vocab_to_index[previous])\n",
    "        J.append(vocab_to_index[current])\n",
    "        V.append(count)\n",
    "        \n",
    "    co_occurrence_matrix = sparse.coo_matrix((V,(I,J)), shape=(n,n))\n",
    "\n",
    "    return co_occurrence_matrix, vocab_to_index"
   ]
  },
  {
   "cell_type": "code",
   "execution_count": 5,
   "metadata": {},
   "outputs": [],
   "source": [
    "tokenizer = RegexpTokenizer(r'\\w+')\n",
    "tokens_lists = content.apply(lambda text: tokenizer.tokenize(text.lower()))"
   ]
  },
  {
   "cell_type": "code",
   "execution_count": 6,
   "metadata": {},
   "outputs": [],
   "source": [
    "stopword_ = stopwords.words('portuguese')\n",
    "filtered_tokens = tokens_lists.apply(lambda tokens: [token for token in tokens if token not in stopword_])"
   ]
  },
  {
   "cell_type": "code",
   "execution_count": 7,
   "metadata": {},
   "outputs": [],
   "source": [
    "tokens = [token for tokens_list in filtered_tokens for token in tokens_list]"
   ]
  },
  {
   "cell_type": "code",
   "execution_count": 8,
   "metadata": {},
   "outputs": [],
   "source": [
    "matrix, vocab = co_occurrence_matrix(tokens)"
   ]
  },
  {
   "cell_type": "code",
   "execution_count": 9,
   "metadata": {},
   "outputs": [],
   "source": [
    "consultable_matrix = matrix.tocsr()"
   ]
  },
  {
   "cell_type": "code",
   "execution_count": 10,
   "metadata": {},
   "outputs": [],
   "source": [
    "def consult_frequency(w1, w2):\n",
    "    return(consultable_matrix[vocab[w1],vocab[w2]])"
   ]
  },
  {
   "cell_type": "code",
   "execution_count": 11,
   "metadata": {},
   "outputs": [
    {
     "data": {
      "text/plain": [
       "3"
      ]
     },
     "execution_count": 11,
     "metadata": {},
     "output_type": "execute_result"
    }
   ],
   "source": [
    "w1 = 'poucos'\n",
    "w2 = 'recursos'\n",
    "consult_frequency(w1, w2)"
   ]
  },
  {
   "cell_type": "code",
   "execution_count": 12,
   "metadata": {},
   "outputs": [],
   "source": [
    "inverted_vocab = {vocab[key]: key for key in vocab}"
   ]
  },
  {
   "cell_type": "code",
   "execution_count": 52,
   "metadata": {},
   "outputs": [],
   "source": [
    "def top3(word):\n",
    "    co_ocorr_words = np.reshape(consultable_matrix[vocab[word]].toarray(), -1)\n",
    "    \n",
    "    dic = {}\n",
    "    \n",
    "    for i in range(len(co_ocorr_words)):\n",
    "        dic[inverted_vocab[i]] = co_ocorr_words[i]\n",
    "        \n",
    "    return sorted(dic.items(), key=lambda x: x[1], reverse = True)[0:3]"
   ]
  },
  {
   "cell_type": "code",
   "execution_count": 53,
   "metadata": {},
   "outputs": [
    {
     "name": "stdout",
     "output_type": "stream",
     "text": [
      "[('rousseff', 3852), ('disse', 312), ('é', 308)]\n",
      "[('paulo', 240), ('é', 90), ('graça', 51)]\n"
     ]
    }
   ],
   "source": [
    "print(top3('dilma'))\n",
    "print(top3('petrobrás'))"
   ]
  },
  {
   "cell_type": "code",
   "execution_count": 19,
   "metadata": {},
   "outputs": [],
   "source": [
    "def expand(word):\n",
    "    query = []\n",
    "    query.append(word)\n",
    "    query.extend(i[0] for i in top3(word))\n",
    "    \n",
    "    return \" \".join(i for i in query)"
   ]
  },
  {
   "cell_type": "code",
   "execution_count": 48,
   "metadata": {},
   "outputs": [
    {
     "name": "stdout",
     "output_type": "stream",
     "text": [
      "dilma rousseff disse é\n",
      "lava jato lato porque\n",
      "michel temer saliba louis\n",
      "aécio neves disse é\n",
      "petrobrás paulo é graça\n"
     ]
    }
   ],
   "source": [
    "print(expand('dilma'))\n",
    "print(expand('lava'))\n",
    "print(expand('michel'))\n",
    "print(expand('aécio'))\n",
    "print(expand('petrobrás'))"
   ]
  },
  {
   "cell_type": "code",
   "execution_count": 21,
   "metadata": {},
   "outputs": [],
   "source": [
    "def gera_tokens(df):\n",
    "    indexes = defaultdict(set)\n",
    "    for index,row in df.iterrows():\n",
    "        if isinstance(row['titulo'], str):\n",
    "            titulo_tokens = (word.lower() for word in (nltk.word_tokenize(row['titulo'])))\n",
    "        if isinstance(row['subTitulo'], str):\n",
    "            subTitulo_tokens = (word.lower() for word in (nltk.word_tokenize(row['subTitulo'])))\n",
    "        if isinstance(row['conteudo'], str):\n",
    "            conteudo_tokens = (word.lower() for word in (nltk.word_tokenize(row['conteudo'])))\n",
    "            a = Counter(word.lower() for word in (nltk.word_tokenize(row['conteudo']))) #TF (term frequency)\n",
    "        #if isinstance(row['url'], str):\n",
    "            #url_tokens = (word.lower() for word in (nl.word_tokenize(row['url'])))\n",
    "        \n",
    "        \n",
    "        for token in titulo_tokens:\n",
    "            indexes[token].add( (int(row['idNoticia']), a[token]) )\n",
    "                \n",
    "        for token in subTitulo_tokens:\n",
    "            indexes[token].add( (int(row['idNoticia']), a[token]) )\n",
    "\n",
    "        for token in conteudo_tokens:\n",
    "            indexes[token].add( ( int(row['idNoticia']), a[token] ) )\n",
    "            \n",
    "        #for token in url_tokens:\n",
    "            #indexes[token].add( (int(row['idNoticia']), a[token]) )\n",
    "        \n",
    "    return indexes"
   ]
  },
  {
   "cell_type": "code",
   "execution_count": 22,
   "metadata": {},
   "outputs": [],
   "source": [
    "dic = gera_tokens(news)"
   ]
  },
  {
   "cell_type": "code",
   "execution_count": 23,
   "metadata": {},
   "outputs": [],
   "source": [
    "for key in dic.keys():\n",
    "    try:\n",
    "        dic[key] = (dic[key],  np.log( (len(dic)+1) / len(dic[key]) ) )\n",
    "    except:\n",
    "        raise"
   ]
  },
  {
   "cell_type": "code",
   "execution_count": 33,
   "metadata": {},
   "outputs": [],
   "source": [
    "def tfidf(query):\n",
    "    tfidf_dict = {}\n",
    "    for term in query:\n",
    "        for doc_tf in dic[term][0]:\n",
    "            if (doc_tf[0] in  tfidf_dict):               \n",
    "                 tfidf_dict[doc_tf[0]] += doc_tf[1] * dic[term][1]\n",
    "            else:\n",
    "                tfidf_dict[doc_tf[0]] = doc_tf[1] * dic[term][1]\n",
    "    \n",
    "    return sorted(tfidf_dict.items(), key= lambda x: x[1], reverse = True)"
   ]
  },
  {
   "cell_type": "code",
   "execution_count": 44,
   "metadata": {},
   "outputs": [],
   "source": [
    "def search(docs):\n",
    "      \n",
    "    tops = sorted(docs, key= lambda x: x[1], reverse = True)[0:10]    \n",
    "        \n",
    "    return [doc[0] for doc in tops[0:10]]"
   ]
  },
  {
   "cell_type": "code",
   "execution_count": 61,
   "metadata": {},
   "outputs": [
    {
     "name": "stdout",
     "output_type": "stream",
     "text": [
      "[155, 6554, 3942, 7017, 5129, 7, 6244, 5683, 7161, 5018]\n",
      "[7, 6554, 7017, 155, 5683, 7158, 5129, 3942, 7161, 6554]\n"
     ]
    }
   ],
   "source": [
    "print(search(tfidf('dilma')))\n",
    "q1 = tfidf('dilma') + tfidf('rousseff') + tfidf('disse') + tfidf('é')\n",
    "print(search(q1)) "
   ]
  },
  {
   "cell_type": "code",
   "execution_count": null,
   "metadata": {},
   "outputs": [],
   "source": []
  }
 ],
 "metadata": {
  "kernelspec": {
   "display_name": "Python 3",
   "language": "python",
   "name": "python3"
  },
  "language_info": {
   "codemirror_mode": {
    "name": "ipython",
    "version": 3
   },
   "file_extension": ".py",
   "mimetype": "text/x-python",
   "name": "python",
   "nbconvert_exporter": "python",
   "pygments_lexer": "ipython3",
   "version": "3.6.4"
  }
 },
 "nbformat": 4,
 "nbformat_minor": 2
}
